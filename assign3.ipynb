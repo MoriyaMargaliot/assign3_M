{
 "cells": [
  {
   "cell_type": "code",
   "execution_count": 57,
   "id": "14169eaf-507d-440d-9833-88c486c3d23e",
   "metadata": {},
   "outputs": [
    {
     "name": "stdout",
     "output_type": "stream",
     "text": [
      "Requirement already satisfied: urllib3 in c:\\users\\moriy\\appdata\\local\\programs\\python\\python39\\lib\\site-packages (1.26.6)\n"
     ]
    },
    {
     "name": "stderr",
     "output_type": "stream",
     "text": [
      "WARNING: You are using pip version 21.1.3; however, version 23.1.2 is available.\n",
      "You should consider upgrading via the 'c:\\users\\moriy\\appdata\\local\\programs\\python\\python39\\python.exe -m pip install --upgrade pip' command.\n"
     ]
    }
   ],
   "source": [
    "import pandas as pd\n",
    "import requests\n",
    "import json\n",
    "!pip install urllib3\n",
    "import urllib.request\n",
    "import urllib.parse\n",
    "import urllib.error"
   ]
  },
  {
   "cell_type": "code",
   "execution_count": 71,
   "id": "b79803d8-6dc7-4f84-b09c-7eddc0bd27a3",
   "metadata": {},
   "outputs": [
    {
     "data": {
      "text/plain": [
       "['Istanbul', 'Amsterdam', 'Valletta', 'Basel', 'Doha']"
      ]
     },
     "execution_count": 71,
     "metadata": {},
     "output_type": "execute_result"
    }
   ],
   "source": [
    "url_data = 'C:\\\\Users\\\\moriy\\\\OneDrive - Ariel University\\\\sofware\\\\Python_mining_and_analysis\\\\dests_matala3.txt'\n",
    "# טעינת היעדים מהקובץ\n",
    "with open(url_data, 'r') as file:\n",
    "    destinations = [line.strip() for line in file if line.strip()]\n",
    "destinations"
   ]
  },
  {
   "cell_type": "markdown",
   "id": "a5565d6d-89b0-4b51-9cc7-20854e396237",
   "metadata": {},
   "source": [
    "##### הנחתי שפה זה בסדר להשתמש בלולאה, מאחר ואין כמעט דאטה בקובץ, זו 'רק' רשימת ערים."
   ]
  },
  {
   "cell_type": "code",
   "execution_count": 79,
   "id": "3244528d-e7d8-4ae5-9a47-1089824eeccc",
   "metadata": {},
   "outputs": [],
   "source": [
    "# יצירת הדאטה פריים כפי שביקשו\n",
    "df = pd.DataFrame(columns=['Target', 'Distance_km', 'Duration', 'Longitude', 'Latitude'])\n",
    "\n",
    "address = 'Tel Aviv'\n",
    "api_key = 'XXX'\n",
    "\n",
    "# פונקציה לשליפת מידע על היעד משירות ה-Geocode\n",
    "def get_geocode_data(address):\n",
    "    url = 'https://maps.googleapis.com/maps/api/geocode/json?address=%s&key=%s' % (address, api_key)\n",
    "    params = {\n",
    "        'address': address,\n",
    "        'key': api_key\n",
    "    }\n",
    "    try:\n",
    "        response = requests.get(url, params = params)\n",
    "        if response.status_code == 200:\n",
    "            data = response.json()\n",
    "            location = data['results'][0]['geometry']['location']\n",
    "            return location['lat'], location['lng']\n",
    "        else:\n",
    "            print('Geocode request failed:', response.status_code)\n",
    "            return None, None\n",
    "    except requests.exceptions.RequestException as e:\n",
    "        print('An error occurred:', e, '1')\n",
    "        return None, None\n",
    "    \n",
    "# פונקציה לשליפת מידע על המרחק והזמן בין שני יעדים משירות ה-Distance Matrix\n",
    "def get_distance_data(origin, destination):\n",
    "    url = 'https://maps.googleapis.com/maps/api/distancematrix/json?address=%s&key=%s' % (address, api_key)\n",
    "    params = {\n",
    "        'origins': origin,\n",
    "        'destinations': destination,\n",
    "        'key': api_key  # Replace with your actual API key\n",
    "    }\n",
    "    try:\n",
    "        response = requests.get(url, params = params)\n",
    "        if response.status_code == 200:\n",
    "            data = response.json()\n",
    "            distance = data['rows'][0]['elements'][0]['distance']['text']\n",
    "            duration = data['rows'][0]['elements'][0]['duration']['text']\n",
    "            return distance, duration\n",
    "        else:\n",
    "            print('Distance Matrix request failed:', response.status_code)\n",
    "            return None, None\n",
    "    except requests.exceptions.RequestException as e:\n",
    "        print('An error occurred:', e, '2')\n",
    "        return None, None\n",
    "\n",
    "# נעבור על רשימת היעדים\n",
    "for dest in destinations:\n",
    "    try:\n",
    "        # שליפת היעד\n",
    "        latitude, longitude = get_geocode_data(dest)\n",
    "        # בדיקה האם נתוני ה-Geocode זמינים\n",
    "        if latitude is None or longitude is None:\n",
    "            print('Geocode data not available for', dest)\n",
    "            continue\n",
    "        # שליפת מידע על המרחק ועל הזמן בין תל אביב לבין היעד\n",
    "        distance, duration = get_distance_data('Tel Aviv', dest)\n",
    "        # המרת הזמן לפורמט שעות ודקות בלבד\n",
    "        hours = 0\n",
    "        minutes = 0\n",
    "        duration_parts = duration.split(' ')\n",
    "        if duration_parts[1] == 'days' or duration_parts[1] == 'day':\n",
    "            hours = int(duration_parts[0]) * 24 + int(duration_parts[2])\n",
    "            minutes = 0\n",
    "        else:\n",
    "            hours = int(duration_parts[0])\n",
    "            minutes = int(duration_parts[2])\n",
    "        duration_formatted = f'{hours} hours {minutes} minutes'\n",
    "        new_data = pd.DataFrame({\n",
    "            'Target': [dest],\n",
    "            'Distance_km': [distance],\n",
    "            'Duration': [duration_formatted],\n",
    "            'Longitude': [longitude],\n",
    "            'Latitude': [latitude]\n",
    "        })\n",
    "        df = pd.concat([df, new_data], ignore_index=True)\n",
    "    except Exception as e:\n",
    "        print('An error occurred:', e, '3')"
   ]
  },
  {
   "cell_type": "code",
   "execution_count": 80,
   "id": "bc7fd3d6-824f-4ff8-bb05-82750079af95",
   "metadata": {},
   "outputs": [
    {
     "data": {
      "text/html": [
       "<div>\n",
       "<style scoped>\n",
       "    .dataframe tbody tr th:only-of-type {\n",
       "        vertical-align: middle;\n",
       "    }\n",
       "\n",
       "    .dataframe tbody tr th {\n",
       "        vertical-align: top;\n",
       "    }\n",
       "\n",
       "    .dataframe thead th {\n",
       "        text-align: right;\n",
       "    }\n",
       "</style>\n",
       "<table border=\"1\" class=\"dataframe\">\n",
       "  <thead>\n",
       "    <tr style=\"text-align: right;\">\n",
       "      <th></th>\n",
       "      <th>Target</th>\n",
       "      <th>Distance_km</th>\n",
       "      <th>Duration</th>\n",
       "      <th>Longitude</th>\n",
       "      <th>Latitude</th>\n",
       "    </tr>\n",
       "  </thead>\n",
       "  <tbody>\n",
       "    <tr>\n",
       "      <th>0</th>\n",
       "      <td>Istanbul</td>\n",
       "      <td>1,815 km</td>\n",
       "      <td>21 hours 3 minutes</td>\n",
       "      <td>28.978359</td>\n",
       "      <td>41.008238</td>\n",
       "    </tr>\n",
       "    <tr>\n",
       "      <th>1</th>\n",
       "      <td>Amsterdam</td>\n",
       "      <td>4,533 km</td>\n",
       "      <td>48 hours 0 minutes</td>\n",
       "      <td>4.904139</td>\n",
       "      <td>52.367573</td>\n",
       "    </tr>\n",
       "    <tr>\n",
       "      <th>2</th>\n",
       "      <td>Valletta</td>\n",
       "      <td>3,793 km</td>\n",
       "      <td>51 hours 0 minutes</td>\n",
       "      <td>14.514100</td>\n",
       "      <td>35.899237</td>\n",
       "    </tr>\n",
       "    <tr>\n",
       "      <th>3</th>\n",
       "      <td>Basel</td>\n",
       "      <td>4,118 km</td>\n",
       "      <td>44 hours 0 minutes</td>\n",
       "      <td>7.588576</td>\n",
       "      <td>47.559599</td>\n",
       "    </tr>\n",
       "    <tr>\n",
       "      <th>4</th>\n",
       "      <td>Doha</td>\n",
       "      <td>2,164 km</td>\n",
       "      <td>22 hours 39 minutes</td>\n",
       "      <td>51.531040</td>\n",
       "      <td>25.285447</td>\n",
       "    </tr>\n",
       "  </tbody>\n",
       "</table>\n",
       "</div>"
      ],
      "text/plain": [
       "      Target Distance_km             Duration  Longitude   Latitude\n",
       "0   Istanbul    1,815 km   21 hours 3 minutes  28.978359  41.008238\n",
       "1  Amsterdam    4,533 km   48 hours 0 minutes   4.904139  52.367573\n",
       "2   Valletta    3,793 km   51 hours 0 minutes  14.514100  35.899237\n",
       "3      Basel    4,118 km   44 hours 0 minutes   7.588576  47.559599\n",
       "4       Doha    2,164 km  22 hours 39 minutes  51.531040  25.285447"
      ]
     },
     "execution_count": 80,
     "metadata": {},
     "output_type": "execute_result"
    }
   ],
   "source": [
    "df"
   ]
  },
  {
   "cell_type": "code",
   "execution_count": 81,
   "id": "ef5d57e5-4d12-4770-8941-eadf12e06c43",
   "metadata": {},
   "outputs": [
    {
     "data": {
      "text/html": [
       "<div>\n",
       "<style scoped>\n",
       "    .dataframe tbody tr th:only-of-type {\n",
       "        vertical-align: middle;\n",
       "    }\n",
       "\n",
       "    .dataframe tbody tr th {\n",
       "        vertical-align: top;\n",
       "    }\n",
       "\n",
       "    .dataframe thead th {\n",
       "        text-align: right;\n",
       "    }\n",
       "</style>\n",
       "<table border=\"1\" class=\"dataframe\">\n",
       "  <thead>\n",
       "    <tr style=\"text-align: right;\">\n",
       "      <th></th>\n",
       "      <th>Target</th>\n",
       "      <th>Distance_km</th>\n",
       "      <th>Duration</th>\n",
       "      <th>Longitude</th>\n",
       "      <th>Latitude</th>\n",
       "    </tr>\n",
       "  </thead>\n",
       "  <tbody>\n",
       "    <tr>\n",
       "      <th>1</th>\n",
       "      <td>Amsterdam</td>\n",
       "      <td>4.0</td>\n",
       "      <td>48 hours 0 minutes</td>\n",
       "      <td>4.904139</td>\n",
       "      <td>52.367573</td>\n",
       "    </tr>\n",
       "    <tr>\n",
       "      <th>3</th>\n",
       "      <td>Basel</td>\n",
       "      <td>4.0</td>\n",
       "      <td>44 hours 0 minutes</td>\n",
       "      <td>7.588576</td>\n",
       "      <td>47.559599</td>\n",
       "    </tr>\n",
       "    <tr>\n",
       "      <th>2</th>\n",
       "      <td>Valletta</td>\n",
       "      <td>3.0</td>\n",
       "      <td>51 hours 0 minutes</td>\n",
       "      <td>14.514100</td>\n",
       "      <td>35.899237</td>\n",
       "    </tr>\n",
       "  </tbody>\n",
       "</table>\n",
       "</div>"
      ],
      "text/plain": [
       "      Target  Distance_km            Duration  Longitude   Latitude\n",
       "1  Amsterdam          4.0  48 hours 0 minutes   4.904139  52.367573\n",
       "3      Basel          4.0  44 hours 0 minutes   7.588576  47.559599\n",
       "2   Valletta          3.0  51 hours 0 minutes  14.514100  35.899237"
      ]
     },
     "execution_count": 81,
     "metadata": {},
     "output_type": "execute_result"
    }
   ],
   "source": [
    "# המרת העמודה \"Distance_km\" למספר\n",
    "df['Distance_km'] = df['Distance_km'].str.extract('(\\d+\\.?\\d*)').astype(float)\n",
    "# 3 הערים הרחוקות ביותר מתל אביב\n",
    "furthest_cities = df.nlargest(3, 'Distance_km')\n",
    "furthest_cities"
   ]
  },
  {
   "cell_type": "code",
   "execution_count": null,
   "id": "6d6b5a43-55e3-40f4-a1f6-d906570378d1",
   "metadata": {},
   "outputs": [],
   "source": []
  }
 ],
 "metadata": {
  "kernelspec": {
   "display_name": "Python 3 (ipykernel)",
   "language": "python",
   "name": "python3"
  },
  "language_info": {
   "codemirror_mode": {
    "name": "ipython",
    "version": 3
   },
   "file_extension": ".py",
   "mimetype": "text/x-python",
   "name": "python",
   "nbconvert_exporter": "python",
   "pygments_lexer": "ipython3",
   "version": "3.9.6"
  }
 },
 "nbformat": 4,
 "nbformat_minor": 5
}
